{
  "nbformat": 4,
  "nbformat_minor": 0,
  "metadata": {
    "colab": {
      "name": "8 - Distributed Training",
      "provenance": [],
      "collapsed_sections": [],
      "include_colab_link": true
    },
    "kernelspec": {
      "name": "python3",
      "display_name": "Python 3"
    },
    "accelerator": "GPU"
  },
  "cells": [
    {
      "cell_type": "markdown",
      "metadata": {
        "id": "view-in-github",
        "colab_type": "text"
      },
      "source": [
        "<a href=\"https://colab.research.google.com/github/pratjz/Tensorflow/blob/master/8_Distributed_Training.ipynb\" target=\"_parent\"><img src=\"https://colab.research.google.com/assets/colab-badge.svg\" alt=\"Open In Colab\"/></a>"
      ]
    },
    {
      "cell_type": "markdown",
      "metadata": {
        "id": "7eeB9h7f-5Pk"
      },
      "source": [
        "## Stage 1: Installing dependencies and setting up the environment"
      ]
    },
    {
      "cell_type": "code",
      "metadata": {
        "id": "wZML5kPN-k8a"
      },
      "source": [
        "#!pip install tensorflow-gpu==2.0.0.alpha0"
      ],
      "execution_count": null,
      "outputs": []
    },
    {
      "cell_type": "markdown",
      "metadata": {
        "id": "lSKxj2vSED3K"
      },
      "source": [
        "## Stage 2: Importing project dependencies"
      ]
    },
    {
      "cell_type": "code",
      "metadata": {
        "id": "SJgY-K01ELTU"
      },
      "source": [
        "import time\n",
        "import numpy as np\n",
        "import tensorflow as tf"
      ],
      "execution_count": null,
      "outputs": []
    },
    {
      "cell_type": "code",
      "metadata": {
        "id": "sRUOhsd8EMht",
        "outputId": "c11b1cd7-c010-4a04-b15a-604694d59e53",
        "colab": {
          "base_uri": "https://localhost:8080/",
          "height": 35
        }
      },
      "source": [
        "tf.__version__"
      ],
      "execution_count": null,
      "outputs": [
        {
          "output_type": "execute_result",
          "data": {
            "application/vnd.google.colaboratory.intrinsic+json": {
              "type": "string"
            },
            "text/plain": [
              "'2.3.0'"
            ]
          },
          "metadata": {
            "tags": []
          },
          "execution_count": 3
        }
      ]
    },
    {
      "cell_type": "markdown",
      "metadata": {
        "id": "26ptHcr0EI0a"
      },
      "source": [
        "## Stage 3: Dataset preprocessing"
      ]
    },
    {
      "cell_type": "markdown",
      "metadata": {
        "id": "hczKVjTGEjAH"
      },
      "source": [
        "### Loading the MNIST dataset"
      ]
    },
    {
      "cell_type": "code",
      "metadata": {
        "id": "G1Ha87twDSHS",
        "outputId": "be596064-0552-4a4c-c43a-4ac783b11439",
        "colab": {
          "base_uri": "https://localhost:8080/",
          "height": 51
        }
      },
      "source": [
        "(X_train, y_train), (X_test, y_test) = tf.keras.datasets.mnist.load_data()"
      ],
      "execution_count": null,
      "outputs": [
        {
          "output_type": "stream",
          "text": [
            "Downloading data from https://storage.googleapis.com/tensorflow/tf-keras-datasets/mnist.npz\n",
            "11493376/11490434 [==============================] - 0s 0us/step\n"
          ],
          "name": "stdout"
        }
      ]
    },
    {
      "cell_type": "markdown",
      "metadata": {
        "id": "7Rx1xqx0Ek2Y"
      },
      "source": [
        "### Image normalization"
      ]
    },
    {
      "cell_type": "code",
      "metadata": {
        "id": "iiCH6RVDEmdS"
      },
      "source": [
        "X_train = X_train / 255.\n",
        "X_test = X_test / 255."
      ],
      "execution_count": null,
      "outputs": []
    },
    {
      "cell_type": "code",
      "metadata": {
        "id": "dKO-LUwRF_VN",
        "outputId": "f4799bb6-dbb3-4285-f73c-40bc93402439",
        "colab": {
          "base_uri": "https://localhost:8080/",
          "height": 34
        }
      },
      "source": [
        "X_train.shape"
      ],
      "execution_count": null,
      "outputs": [
        {
          "output_type": "execute_result",
          "data": {
            "text/plain": [
              "(60000, 28, 28)"
            ]
          },
          "metadata": {
            "tags": []
          },
          "execution_count": 6
        }
      ]
    },
    {
      "cell_type": "markdown",
      "metadata": {
        "id": "cFay5qJlEm9j"
      },
      "source": [
        "### Dataset reshaping"
      ]
    },
    {
      "cell_type": "code",
      "metadata": {
        "id": "jKSk6QhDEpTR"
      },
      "source": [
        "X_train = X_train.reshape(-1, 28*28)\n",
        "X_test = X_test.reshape(-1, 28*28)"
      ],
      "execution_count": null,
      "outputs": []
    },
    {
      "cell_type": "code",
      "metadata": {
        "id": "tY5ZlIXbGT6z",
        "outputId": "219f6216-0f29-48d4-9174-7dbeb1199a86",
        "colab": {
          "base_uri": "https://localhost:8080/",
          "height": 34
        }
      },
      "source": [
        "X_train.shape"
      ],
      "execution_count": null,
      "outputs": [
        {
          "output_type": "execute_result",
          "data": {
            "text/plain": [
              "(60000, 784)"
            ]
          },
          "metadata": {
            "tags": []
          },
          "execution_count": 8
        }
      ]
    },
    {
      "cell_type": "markdown",
      "metadata": {
        "id": "4C4z3xaBHCkj"
      },
      "source": [
        "## Stage 4: Distributed Training"
      ]
    },
    {
      "cell_type": "markdown",
      "metadata": {
        "id": "Go7pPmPNHF4i"
      },
      "source": [
        "### Defining normal (non distributed) model"
      ]
    },
    {
      "cell_type": "code",
      "metadata": {
        "id": "y0-yHacPGVbC"
      },
      "source": [
        "model_normal = tf.keras.models.Sequential()"
      ],
      "execution_count": null,
      "outputs": []
    },
    {
      "cell_type": "code",
      "metadata": {
        "id": "cZXEmKu2Hnwa"
      },
      "source": [
        "model_normal.add(tf.keras.layers.Dense(units=128, activation='relu', input_shape=(784,)))"
      ],
      "execution_count": null,
      "outputs": []
    },
    {
      "cell_type": "code",
      "metadata": {
        "id": "D8x-c_2WH2xi"
      },
      "source": [
        "model_normal.add(tf.keras.layers.Dropout(rate=0.2))"
      ],
      "execution_count": null,
      "outputs": []
    },
    {
      "cell_type": "code",
      "metadata": {
        "id": "VyRrtur0H_F7"
      },
      "source": [
        "model_normal.add(tf.keras.layers.Dense(units=10, activation='softmax'))"
      ],
      "execution_count": null,
      "outputs": []
    },
    {
      "cell_type": "code",
      "metadata": {
        "id": "4bw4pGh7IID6"
      },
      "source": [
        "model_normal.compile(optimizer='adam', loss='sparse_categorical_crossentropy', metrics=['sparse_categorical_accuracy'])"
      ],
      "execution_count": null,
      "outputs": []
    },
    {
      "cell_type": "markdown",
      "metadata": {
        "id": "QxNAPpg_Ixd1"
      },
      "source": [
        "### Defining the Distributed Strategy"
      ]
    },
    {
      "cell_type": "code",
      "metadata": {
        "id": "7eqaEeJ8IY5c",
        "outputId": "2daa9da7-57c6-41d8-bbb7-0ac37b0d9187",
        "colab": {
          "base_uri": "https://localhost:8080/",
          "height": 34
        }
      },
      "source": [
        "distribute = tf.distribute.MirroredStrategy()"
      ],
      "execution_count": null,
      "outputs": [
        {
          "output_type": "stream",
          "text": [
            "INFO:tensorflow:Using MirroredStrategy with devices ('/job:localhost/replica:0/task:0/device:GPU:0',)\n"
          ],
          "name": "stdout"
        }
      ]
    },
    {
      "cell_type": "markdown",
      "metadata": {
        "id": "Yq18oQJyLvR8"
      },
      "source": [
        "### Defining a distributed model"
      ]
    },
    {
      "cell_type": "code",
      "metadata": {
        "id": "G1PqCVZHJWDS"
      },
      "source": [
        "with distribute.scope():\n",
        "  model_distributed = tf.keras.models.Sequential()\n",
        "  model_distributed.add(tf.keras.layers.Dense(units=128, activation='relu', input_shape=(784,)))\n",
        "  model_distributed.add(tf.keras.layers.Dropout(rate=0.2))\n",
        "  model_distributed.add(tf.keras.layers.Dense(units=10, activation='softmax'))\n",
        "  model_distributed.compile(optimizer='adam', loss='sparse_categorical_crossentropy', metrics=['sparse_categorical_accuracy'])"
      ],
      "execution_count": null,
      "outputs": []
    },
    {
      "cell_type": "markdown",
      "metadata": {
        "id": "yq-5J0hmNJPh"
      },
      "source": [
        "### Speed comparison between normal training and distributed training process"
      ]
    },
    {
      "cell_type": "code",
      "metadata": {
        "id": "0DYLCQftM99q",
        "outputId": "510bc8c0-ffce-4702-afb5-f7a4cbc1c431",
        "colab": {
          "base_uri": "https://localhost:8080/",
          "height": 544
        }
      },
      "source": [
        "start_time = time.time()\n",
        "model_distributed.fit(X_train, y_train, epochs=10, batch_size=25)\n",
        "print(\"Distributed training took: {}\".format(time.time() - start_time))"
      ],
      "execution_count": null,
      "outputs": [
        {
          "output_type": "stream",
          "text": [
            "Epoch 1/10\n",
            "INFO:tensorflow:Reduce to /job:localhost/replica:0/task:0/device:CPU:0 then broadcast to ('/job:localhost/replica:0/task:0/device:CPU:0',).\n",
            "INFO:tensorflow:Reduce to /job:localhost/replica:0/task:0/device:CPU:0 then broadcast to ('/job:localhost/replica:0/task:0/device:CPU:0',).\n",
            "INFO:tensorflow:Reduce to /job:localhost/replica:0/task:0/device:CPU:0 then broadcast to ('/job:localhost/replica:0/task:0/device:CPU:0',).\n",
            "INFO:tensorflow:Reduce to /job:localhost/replica:0/task:0/device:CPU:0 then broadcast to ('/job:localhost/replica:0/task:0/device:CPU:0',).\n",
            "INFO:tensorflow:Reduce to /job:localhost/replica:0/task:0/device:CPU:0 then broadcast to ('/job:localhost/replica:0/task:0/device:CPU:0',).\n",
            "INFO:tensorflow:Reduce to /job:localhost/replica:0/task:0/device:CPU:0 then broadcast to ('/job:localhost/replica:0/task:0/device:CPU:0',).\n",
            "INFO:tensorflow:Reduce to /job:localhost/replica:0/task:0/device:CPU:0 then broadcast to ('/job:localhost/replica:0/task:0/device:CPU:0',).\n",
            "INFO:tensorflow:Reduce to /job:localhost/replica:0/task:0/device:CPU:0 then broadcast to ('/job:localhost/replica:0/task:0/device:CPU:0',).\n",
            "2400/2400 [==============================] - 5s 2ms/step - loss: 0.2847 - sparse_categorical_accuracy: 0.9171\n",
            "INFO:tensorflow:Reduce to /job:localhost/replica:0/task:0/device:CPU:0 then broadcast to ('/job:localhost/replica:0/task:0/device:CPU:0',).\n",
            "INFO:tensorflow:Reduce to /job:localhost/replica:0/task:0/device:CPU:0 then broadcast to ('/job:localhost/replica:0/task:0/device:CPU:0',).\n",
            "Epoch 2/10\n",
            "2400/2400 [==============================] - 5s 2ms/step - loss: 0.1408 - sparse_categorical_accuracy: 0.9581\n",
            "Epoch 3/10\n",
            "2400/2400 [==============================] - 6s 2ms/step - loss: 0.1046 - sparse_categorical_accuracy: 0.9669\n",
            "Epoch 4/10\n",
            "2400/2400 [==============================] - 5s 2ms/step - loss: 0.0848 - sparse_categorical_accuracy: 0.9739\n",
            "Epoch 5/10\n",
            "2400/2400 [==============================] - 5s 2ms/step - loss: 0.0744 - sparse_categorical_accuracy: 0.9763\n",
            "Epoch 6/10\n",
            "2400/2400 [==============================] - 5s 2ms/step - loss: 0.0655 - sparse_categorical_accuracy: 0.9791\n",
            "Epoch 7/10\n",
            "2400/2400 [==============================] - 5s 2ms/step - loss: 0.0569 - sparse_categorical_accuracy: 0.9815\n",
            "Epoch 8/10\n",
            "2400/2400 [==============================] - 5s 2ms/step - loss: 0.0519 - sparse_categorical_accuracy: 0.9829\n",
            "Epoch 9/10\n",
            "2400/2400 [==============================] - 5s 2ms/step - loss: 0.0492 - sparse_categorical_accuracy: 0.9835\n",
            "Epoch 10/10\n",
            "2400/2400 [==============================] - 5s 2ms/step - loss: 0.0456 - sparse_categorical_accuracy: 0.9847\n",
            "Distributed training took: 56.59165954589844\n"
          ],
          "name": "stdout"
        }
      ]
    },
    {
      "cell_type": "code",
      "metadata": {
        "id": "Ub9tQLLTNYTt",
        "outputId": "6bd5e249-2d35-4d31-d456-28842d6e6588",
        "colab": {
          "base_uri": "https://localhost:8080/",
          "height": 374
        }
      },
      "source": [
        "start_time = time.time()\n",
        "model_normal.fit(X_train, y_train, epochs=10, batch_size=25)\n",
        "print(\"Normal training took: {}\".format(time.time() - start_time))"
      ],
      "execution_count": null,
      "outputs": [
        {
          "output_type": "stream",
          "text": [
            "Epoch 1/10\n",
            "2400/2400 [==============================] - 4s 2ms/step - loss: 0.2784 - sparse_categorical_accuracy: 0.9193\n",
            "Epoch 2/10\n",
            "2400/2400 [==============================] - 4s 2ms/step - loss: 0.1347 - sparse_categorical_accuracy: 0.9592\n",
            "Epoch 3/10\n",
            "2400/2400 [==============================] - 4s 2ms/step - loss: 0.1005 - sparse_categorical_accuracy: 0.9691\n",
            "Epoch 4/10\n",
            "2400/2400 [==============================] - 4s 2ms/step - loss: 0.0843 - sparse_categorical_accuracy: 0.9738\n",
            "Epoch 5/10\n",
            "2400/2400 [==============================] - 4s 2ms/step - loss: 0.0739 - sparse_categorical_accuracy: 0.9765\n",
            "Epoch 6/10\n",
            "2400/2400 [==============================] - 4s 2ms/step - loss: 0.0606 - sparse_categorical_accuracy: 0.9808\n",
            "Epoch 7/10\n",
            "2400/2400 [==============================] - 4s 2ms/step - loss: 0.0578 - sparse_categorical_accuracy: 0.9809\n",
            "Epoch 8/10\n",
            "2400/2400 [==============================] - 4s 2ms/step - loss: 0.0503 - sparse_categorical_accuracy: 0.9834\n",
            "Epoch 9/10\n",
            "2400/2400 [==============================] - 4s 2ms/step - loss: 0.0460 - sparse_categorical_accuracy: 0.9851\n",
            "Epoch 10/10\n",
            "2400/2400 [==============================] - 4s 2ms/step - loss: 0.0448 - sparse_categorical_accuracy: 0.9852\n",
            "Normal training took: 38.676350116729736\n"
          ],
          "name": "stdout"
        }
      ]
    },
    {
      "cell_type": "code",
      "metadata": {
        "id": "1CxbQ8JMOF4q"
      },
      "source": [
        ""
      ],
      "execution_count": null,
      "outputs": []
    }
  ]
}