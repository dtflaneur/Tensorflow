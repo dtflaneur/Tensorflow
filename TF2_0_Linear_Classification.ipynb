{
  "nbformat": 4,
  "nbformat_minor": 0,
  "metadata": {
    "colab": {
      "name": "TF2.0 Linear Classification",
      "provenance": [],
      "collapsed_sections": [],
      "include_colab_link": true
    },
    "kernelspec": {
      "name": "python3",
      "display_name": "Python 3"
    },
    "accelerator": "GPU"
  },
  "cells": [
    {
      "cell_type": "markdown",
      "metadata": {
        "id": "view-in-github",
        "colab_type": "text"
      },
      "source": [
        "<a href=\"https://colab.research.google.com/github/pratjz/Tensorflow/blob/master/TF2_0_Linear_Classification.ipynb\" target=\"_parent\"><img src=\"https://colab.research.google.com/assets/colab-badge.svg\" alt=\"Open In Colab\"/></a>"
      ]
    },
    {
      "cell_type": "markdown",
      "metadata": {
        "id": "dxa2PFkEe5dA"
      },
      "source": [
        "# Part 1: Building the Model"
      ]
    },
    {
      "cell_type": "code",
      "metadata": {
        "id": "DeNaBVyT4pn1",
        "outputId": "620e8249-5177-4d6a-d131-76265b099cad",
        "colab": {
          "base_uri": "https://localhost:8080/",
          "height": 119
        }
      },
      "source": [
        "# Install TensorFlow\n",
        "# !pip install -q tensorflow-gpu==2.0.0-beta1\n",
        "\n",
        "try:\n",
        "  %tensorflow_version 2.x  # Colab only.\n",
        "except Exception:\n",
        "  pass\n",
        "\n",
        "import tensorflow as tf\n",
        "print(tf.__version__)"
      ],
      "execution_count": 1,
      "outputs": [
        {
          "output_type": "stream",
          "text": [
            "`%tensorflow_version` only switches the major version: 1.x or 2.x.\n",
            "You set: `2.x  # Colab only.`. This will be interpreted as: `2.x`.\n",
            "\n",
            "\n",
            "TensorFlow 2.x selected.\n",
            "2.3.0\n"
          ],
          "name": "stdout"
        }
      ]
    },
    {
      "cell_type": "code",
      "metadata": {
        "id": "EtMPQxpC4xD0"
      },
      "source": [
        "# Load in the data\n",
        "from sklearn.datasets import load_breast_cancer"
      ],
      "execution_count": 2,
      "outputs": []
    },
    {
      "cell_type": "code",
      "metadata": {
        "id": "pwJ9LvEE5B_z"
      },
      "source": [
        "# load the data\n",
        "data = load_breast_cancer()"
      ],
      "execution_count": 3,
      "outputs": []
    },
    {
      "cell_type": "code",
      "metadata": {
        "id": "wNkavJSj5EcV",
        "outputId": "9a6251f6-183f-467a-da62-cb9242b5e65c",
        "colab": {
          "base_uri": "https://localhost:8080/",
          "height": 34
        }
      },
      "source": [
        "# check the type of 'data'\n",
        "type(data)"
      ],
      "execution_count": 4,
      "outputs": [
        {
          "output_type": "execute_result",
          "data": {
            "text/plain": [
              "sklearn.utils.Bunch"
            ]
          },
          "metadata": {
            "tags": []
          },
          "execution_count": 4
        }
      ]
    },
    {
      "cell_type": "code",
      "metadata": {
        "id": "OsWYmnYR5GQq",
        "outputId": "e39b86ef-4acb-4e6d-a7c4-01c9f5756d0e",
        "colab": {
          "base_uri": "https://localhost:8080/",
          "height": 34
        }
      },
      "source": [
        "# note: it is a Bunch object this basically acts like a dictionary where you can treat the keys like attributes\n",
        "data.keys()"
      ],
      "execution_count": 5,
      "outputs": [
        {
          "output_type": "execute_result",
          "data": {
            "text/plain": [
              "dict_keys(['data', 'target', 'target_names', 'DESCR', 'feature_names', 'filename'])"
            ]
          },
          "metadata": {
            "tags": []
          },
          "execution_count": 5
        }
      ]
    },
    {
      "cell_type": "code",
      "metadata": {
        "id": "HRYJw4hN5JXD",
        "outputId": "0b396a2f-10d8-44eb-a043-37584eb375ac",
        "colab": {
          "base_uri": "https://localhost:8080/",
          "height": 34
        }
      },
      "source": [
        "# 'data' (the attribute) means the input data\n",
        "data.data.shape\n",
        "# it has 569 samples, 30 features"
      ],
      "execution_count": 6,
      "outputs": [
        {
          "output_type": "execute_result",
          "data": {
            "text/plain": [
              "(569, 30)"
            ]
          },
          "metadata": {
            "tags": []
          },
          "execution_count": 6
        }
      ]
    },
    {
      "cell_type": "code",
      "metadata": {
        "id": "G5OVVVge5L-h",
        "outputId": "a457af2c-a9d9-425b-9f21-f9ea388ed698",
        "colab": {
          "base_uri": "https://localhost:8080/",
          "height": 459
        }
      },
      "source": [
        "# 'targets'\n",
        "data.target\n",
        "# note how the targets are just 0s and 1s normally, when you have K targets, they are labeled 0..K-1"
      ],
      "execution_count": 7,
      "outputs": [
        {
          "output_type": "execute_result",
          "data": {
            "text/plain": [
              "array([0, 0, 0, 0, 0, 0, 0, 0, 0, 0, 0, 0, 0, 0, 0, 0, 0, 0, 0, 1, 1, 1,\n",
              "       0, 0, 0, 0, 0, 0, 0, 0, 0, 0, 0, 0, 0, 0, 0, 1, 0, 0, 0, 0, 0, 0,\n",
              "       0, 0, 1, 0, 1, 1, 1, 1, 1, 0, 0, 1, 0, 0, 1, 1, 1, 1, 0, 1, 0, 0,\n",
              "       1, 1, 1, 1, 0, 1, 0, 0, 1, 0, 1, 0, 0, 1, 1, 1, 0, 0, 1, 0, 0, 0,\n",
              "       1, 1, 1, 0, 1, 1, 0, 0, 1, 1, 1, 0, 0, 1, 1, 1, 1, 0, 1, 1, 0, 1,\n",
              "       1, 1, 1, 1, 1, 1, 1, 0, 0, 0, 1, 0, 0, 1, 1, 1, 0, 0, 1, 0, 1, 0,\n",
              "       0, 1, 0, 0, 1, 1, 0, 1, 1, 0, 1, 1, 1, 1, 0, 1, 1, 1, 1, 1, 1, 1,\n",
              "       1, 1, 0, 1, 1, 1, 1, 0, 0, 1, 0, 1, 1, 0, 0, 1, 1, 0, 0, 1, 1, 1,\n",
              "       1, 0, 1, 1, 0, 0, 0, 1, 0, 1, 0, 1, 1, 1, 0, 1, 1, 0, 0, 1, 0, 0,\n",
              "       0, 0, 1, 0, 0, 0, 1, 0, 1, 0, 1, 1, 0, 1, 0, 0, 0, 0, 1, 1, 0, 0,\n",
              "       1, 1, 1, 0, 1, 1, 1, 1, 1, 0, 0, 1, 1, 0, 1, 1, 0, 0, 1, 0, 1, 1,\n",
              "       1, 1, 0, 1, 1, 1, 1, 1, 0, 1, 0, 0, 0, 0, 0, 0, 0, 0, 0, 0, 0, 0,\n",
              "       0, 0, 1, 1, 1, 1, 1, 1, 0, 1, 0, 1, 1, 0, 1, 1, 0, 1, 0, 0, 1, 1,\n",
              "       1, 1, 1, 1, 1, 1, 1, 1, 1, 1, 1, 0, 1, 1, 0, 1, 0, 1, 1, 1, 1, 1,\n",
              "       1, 1, 1, 1, 1, 1, 1, 1, 1, 0, 1, 1, 1, 0, 1, 0, 1, 1, 1, 1, 0, 0,\n",
              "       0, 1, 1, 1, 1, 0, 1, 0, 1, 0, 1, 1, 1, 0, 1, 1, 1, 1, 1, 1, 1, 0,\n",
              "       0, 0, 1, 1, 1, 1, 1, 1, 1, 1, 1, 1, 1, 0, 0, 1, 0, 0, 0, 1, 0, 0,\n",
              "       1, 1, 1, 1, 1, 0, 1, 1, 1, 1, 1, 0, 1, 1, 1, 0, 1, 1, 0, 0, 1, 1,\n",
              "       1, 1, 1, 1, 0, 1, 1, 1, 1, 1, 1, 1, 0, 1, 1, 1, 1, 1, 0, 1, 1, 0,\n",
              "       1, 1, 1, 1, 1, 1, 1, 1, 1, 1, 1, 1, 0, 1, 0, 0, 1, 0, 1, 1, 1, 1,\n",
              "       1, 0, 1, 1, 0, 1, 0, 1, 1, 0, 1, 0, 1, 1, 1, 1, 1, 1, 1, 1, 0, 0,\n",
              "       1, 1, 1, 1, 1, 1, 0, 1, 1, 1, 1, 1, 1, 1, 1, 1, 1, 0, 1, 1, 1, 1,\n",
              "       1, 1, 1, 0, 1, 0, 1, 1, 0, 1, 1, 1, 1, 1, 0, 0, 1, 0, 1, 0, 1, 1,\n",
              "       1, 1, 1, 0, 1, 1, 0, 1, 0, 1, 0, 0, 1, 1, 1, 0, 1, 1, 1, 1, 1, 1,\n",
              "       1, 1, 1, 1, 1, 0, 1, 0, 0, 1, 1, 1, 1, 1, 1, 1, 1, 1, 1, 1, 1, 1,\n",
              "       1, 1, 1, 1, 1, 1, 1, 1, 1, 1, 1, 1, 0, 0, 0, 0, 0, 0, 1])"
            ]
          },
          "metadata": {
            "tags": []
          },
          "execution_count": 7
        }
      ]
    },
    {
      "cell_type": "code",
      "metadata": {
        "id": "YFXPFIiB5Osq",
        "outputId": "7814da83-fce5-43a1-e292-38e6ababa1e3",
        "colab": {
          "base_uri": "https://localhost:8080/",
          "height": 34
        }
      },
      "source": [
        "# their meaning is not lost\n",
        "data.target_names"
      ],
      "execution_count": 8,
      "outputs": [
        {
          "output_type": "execute_result",
          "data": {
            "text/plain": [
              "array(['malignant', 'benign'], dtype='<U9')"
            ]
          },
          "metadata": {
            "tags": []
          },
          "execution_count": 8
        }
      ]
    },
    {
      "cell_type": "code",
      "metadata": {
        "id": "hujO3u7j5Qm-",
        "outputId": "2ebd37c0-1a55-4a72-d57b-888ff282e678",
        "colab": {
          "base_uri": "https://localhost:8080/",
          "height": 34
        }
      },
      "source": [
        "# there are also 569 corresponding targets\n",
        "data.target.shape"
      ],
      "execution_count": 9,
      "outputs": [
        {
          "output_type": "execute_result",
          "data": {
            "text/plain": [
              "(569,)"
            ]
          },
          "metadata": {
            "tags": []
          },
          "execution_count": 9
        }
      ]
    },
    {
      "cell_type": "code",
      "metadata": {
        "id": "q3o3h2l95SJ0",
        "outputId": "a9608ae1-95f7-4da5-918a-1e392fb21d10",
        "colab": {
          "base_uri": "https://localhost:8080/",
          "height": 187
        }
      },
      "source": [
        "# you can also determine the meaning of each feature\n",
        "data.feature_names"
      ],
      "execution_count": 10,
      "outputs": [
        {
          "output_type": "execute_result",
          "data": {
            "text/plain": [
              "array(['mean radius', 'mean texture', 'mean perimeter', 'mean area',\n",
              "       'mean smoothness', 'mean compactness', 'mean concavity',\n",
              "       'mean concave points', 'mean symmetry', 'mean fractal dimension',\n",
              "       'radius error', 'texture error', 'perimeter error', 'area error',\n",
              "       'smoothness error', 'compactness error', 'concavity error',\n",
              "       'concave points error', 'symmetry error',\n",
              "       'fractal dimension error', 'worst radius', 'worst texture',\n",
              "       'worst perimeter', 'worst area', 'worst smoothness',\n",
              "       'worst compactness', 'worst concavity', 'worst concave points',\n",
              "       'worst symmetry', 'worst fractal dimension'], dtype='<U23')"
            ]
          },
          "metadata": {
            "tags": []
          },
          "execution_count": 10
        }
      ]
    },
    {
      "cell_type": "code",
      "metadata": {
        "id": "__iUSucB5Tug"
      },
      "source": [
        "# normally we would put all of our imports at the top but this lets us tell a story\n",
        "from sklearn.model_selection import train_test_split\n",
        "\n",
        "\n",
        "# split the data into train and test sets\n",
        "X_train, X_test, y_train, y_test = train_test_split(data.data, data.target, test_size=0.33)\n",
        "N, D = X_train.shape"
      ],
      "execution_count": 11,
      "outputs": []
    },
    {
      "cell_type": "code",
      "metadata": {
        "id": "fS7cFmYl73H3"
      },
      "source": [
        "# Scale the data\n",
        "from sklearn.preprocessing import StandardScaler\n",
        "\n",
        "scaler = StandardScaler()\n",
        "X_train = scaler.fit_transform(X_train)\n",
        "X_test = scaler.transform(X_test)"
      ],
      "execution_count": 12,
      "outputs": []
    },
    {
      "cell_type": "code",
      "metadata": {
        "id": "y-llhgXY5bmX",
        "outputId": "eb3591c9-37bd-460e-a521-8ee44d832507",
        "colab": {
          "base_uri": "https://localhost:8080/",
          "height": 1000
        }
      },
      "source": [
        "# Now all the fun Tensorflow stuff\n",
        "# Build the model\n",
        "\n",
        "model = tf.keras.models.Sequential([\n",
        "  tf.keras.layers.Input(shape=(D,)),\n",
        "  tf.keras.layers.Dense(1, activation='sigmoid')\n",
        "])\n",
        "\n",
        "# Alternatively, you can do:\n",
        "# model = tf.keras.models.Sequential()\n",
        "# model.add(tf.keras.layers.Dense(1, input_shape=(D,), activation='sigmoid'))\n",
        "\n",
        "model.compile(optimizer='adam', loss='binary_crossentropy', metrics=['accuracy'])\n",
        "\n",
        "# Train the model\n",
        "r = model.fit(X_train, y_train, validation_data=(X_test, y_test), epochs=100)\n",
        "\n",
        "# Evaluate the model - evaluate() returns loss and accuracy\n",
        "print(\"Train score:\", model.evaluate(X_train, y_train))\n",
        "print(\"Test score:\", model.evaluate(X_test, y_test))"
      ],
      "execution_count": 13,
      "outputs": [
        {
          "output_type": "stream",
          "text": [
            "Epoch 1/100\n",
            "12/12 [==============================] - 0s 13ms/step - loss: 0.5442 - accuracy: 0.7244 - val_loss: 0.4491 - val_accuracy: 0.8298\n",
            "Epoch 2/100\n",
            "12/12 [==============================] - 0s 4ms/step - loss: 0.4991 - accuracy: 0.7769 - val_loss: 0.4085 - val_accuracy: 0.8617\n",
            "Epoch 3/100\n",
            "12/12 [==============================] - 0s 4ms/step - loss: 0.4618 - accuracy: 0.7927 - val_loss: 0.3743 - val_accuracy: 0.8723\n",
            "Epoch 4/100\n",
            "12/12 [==============================] - 0s 4ms/step - loss: 0.4296 - accuracy: 0.8163 - val_loss: 0.3460 - val_accuracy: 0.8830\n",
            "Epoch 5/100\n",
            "12/12 [==============================] - 0s 4ms/step - loss: 0.4020 - accuracy: 0.8346 - val_loss: 0.3220 - val_accuracy: 0.8883\n",
            "Epoch 6/100\n",
            "12/12 [==============================] - 0s 4ms/step - loss: 0.3780 - accuracy: 0.8478 - val_loss: 0.3012 - val_accuracy: 0.9043\n",
            "Epoch 7/100\n",
            "12/12 [==============================] - 0s 4ms/step - loss: 0.3572 - accuracy: 0.8530 - val_loss: 0.2836 - val_accuracy: 0.9149\n",
            "Epoch 8/100\n",
            "12/12 [==============================] - 0s 4ms/step - loss: 0.3391 - accuracy: 0.8556 - val_loss: 0.2679 - val_accuracy: 0.9202\n",
            "Epoch 9/100\n",
            "12/12 [==============================] - 0s 4ms/step - loss: 0.3228 - accuracy: 0.8661 - val_loss: 0.2540 - val_accuracy: 0.9309\n",
            "Epoch 10/100\n",
            "12/12 [==============================] - 0s 4ms/step - loss: 0.3084 - accuracy: 0.8766 - val_loss: 0.2419 - val_accuracy: 0.9362\n",
            "Epoch 11/100\n",
            "12/12 [==============================] - 0s 4ms/step - loss: 0.2952 - accuracy: 0.8845 - val_loss: 0.2312 - val_accuracy: 0.9362\n",
            "Epoch 12/100\n",
            "12/12 [==============================] - 0s 4ms/step - loss: 0.2836 - accuracy: 0.8871 - val_loss: 0.2212 - val_accuracy: 0.9415\n",
            "Epoch 13/100\n",
            "12/12 [==============================] - 0s 4ms/step - loss: 0.2728 - accuracy: 0.8924 - val_loss: 0.2125 - val_accuracy: 0.9415\n",
            "Epoch 14/100\n",
            "12/12 [==============================] - 0s 4ms/step - loss: 0.2634 - accuracy: 0.8924 - val_loss: 0.2045 - val_accuracy: 0.9521\n",
            "Epoch 15/100\n",
            "12/12 [==============================] - 0s 4ms/step - loss: 0.2543 - accuracy: 0.8950 - val_loss: 0.1971 - val_accuracy: 0.9521\n",
            "Epoch 16/100\n",
            "12/12 [==============================] - 0s 4ms/step - loss: 0.2461 - accuracy: 0.9003 - val_loss: 0.1901 - val_accuracy: 0.9574\n",
            "Epoch 17/100\n",
            "12/12 [==============================] - 0s 4ms/step - loss: 0.2386 - accuracy: 0.9003 - val_loss: 0.1838 - val_accuracy: 0.9628\n",
            "Epoch 18/100\n",
            "12/12 [==============================] - 0s 4ms/step - loss: 0.2317 - accuracy: 0.9029 - val_loss: 0.1780 - val_accuracy: 0.9734\n",
            "Epoch 19/100\n",
            "12/12 [==============================] - 0s 4ms/step - loss: 0.2253 - accuracy: 0.9029 - val_loss: 0.1726 - val_accuracy: 0.9734\n",
            "Epoch 20/100\n",
            "12/12 [==============================] - 0s 4ms/step - loss: 0.2192 - accuracy: 0.9108 - val_loss: 0.1678 - val_accuracy: 0.9734\n",
            "Epoch 21/100\n",
            "12/12 [==============================] - 0s 4ms/step - loss: 0.2138 - accuracy: 0.9134 - val_loss: 0.1631 - val_accuracy: 0.9734\n",
            "Epoch 22/100\n",
            "12/12 [==============================] - 0s 4ms/step - loss: 0.2086 - accuracy: 0.9186 - val_loss: 0.1587 - val_accuracy: 0.9734\n",
            "Epoch 23/100\n",
            "12/12 [==============================] - 0s 4ms/step - loss: 0.2037 - accuracy: 0.9213 - val_loss: 0.1549 - val_accuracy: 0.9787\n",
            "Epoch 24/100\n",
            "12/12 [==============================] - 0s 4ms/step - loss: 0.1993 - accuracy: 0.9213 - val_loss: 0.1509 - val_accuracy: 0.9787\n",
            "Epoch 25/100\n",
            "12/12 [==============================] - 0s 4ms/step - loss: 0.1950 - accuracy: 0.9239 - val_loss: 0.1474 - val_accuracy: 0.9787\n",
            "Epoch 26/100\n",
            "12/12 [==============================] - 0s 4ms/step - loss: 0.1910 - accuracy: 0.9265 - val_loss: 0.1439 - val_accuracy: 0.9840\n",
            "Epoch 27/100\n",
            "12/12 [==============================] - 0s 4ms/step - loss: 0.1872 - accuracy: 0.9318 - val_loss: 0.1407 - val_accuracy: 0.9840\n",
            "Epoch 28/100\n",
            "12/12 [==============================] - 0s 4ms/step - loss: 0.1836 - accuracy: 0.9396 - val_loss: 0.1377 - val_accuracy: 0.9840\n",
            "Epoch 29/100\n",
            "12/12 [==============================] - 0s 4ms/step - loss: 0.1804 - accuracy: 0.9423 - val_loss: 0.1348 - val_accuracy: 0.9840\n",
            "Epoch 30/100\n",
            "12/12 [==============================] - 0s 4ms/step - loss: 0.1772 - accuracy: 0.9449 - val_loss: 0.1322 - val_accuracy: 0.9840\n",
            "Epoch 31/100\n",
            "12/12 [==============================] - 0s 4ms/step - loss: 0.1740 - accuracy: 0.9475 - val_loss: 0.1295 - val_accuracy: 0.9840\n",
            "Epoch 32/100\n",
            "12/12 [==============================] - 0s 4ms/step - loss: 0.1711 - accuracy: 0.9475 - val_loss: 0.1270 - val_accuracy: 0.9840\n",
            "Epoch 33/100\n",
            "12/12 [==============================] - 0s 4ms/step - loss: 0.1684 - accuracy: 0.9501 - val_loss: 0.1247 - val_accuracy: 0.9787\n",
            "Epoch 34/100\n",
            "12/12 [==============================] - 0s 4ms/step - loss: 0.1658 - accuracy: 0.9528 - val_loss: 0.1225 - val_accuracy: 0.9787\n",
            "Epoch 35/100\n",
            "12/12 [==============================] - 0s 4ms/step - loss: 0.1633 - accuracy: 0.9554 - val_loss: 0.1203 - val_accuracy: 0.9787\n",
            "Epoch 36/100\n",
            "12/12 [==============================] - 0s 4ms/step - loss: 0.1610 - accuracy: 0.9554 - val_loss: 0.1184 - val_accuracy: 0.9787\n",
            "Epoch 37/100\n",
            "12/12 [==============================] - 0s 4ms/step - loss: 0.1586 - accuracy: 0.9606 - val_loss: 0.1165 - val_accuracy: 0.9787\n",
            "Epoch 38/100\n",
            "12/12 [==============================] - 0s 4ms/step - loss: 0.1564 - accuracy: 0.9606 - val_loss: 0.1145 - val_accuracy: 0.9787\n",
            "Epoch 39/100\n",
            "12/12 [==============================] - 0s 4ms/step - loss: 0.1543 - accuracy: 0.9606 - val_loss: 0.1128 - val_accuracy: 0.9787\n",
            "Epoch 40/100\n",
            "12/12 [==============================] - 0s 4ms/step - loss: 0.1522 - accuracy: 0.9606 - val_loss: 0.1111 - val_accuracy: 0.9787\n",
            "Epoch 41/100\n",
            "12/12 [==============================] - 0s 4ms/step - loss: 0.1504 - accuracy: 0.9606 - val_loss: 0.1094 - val_accuracy: 0.9787\n",
            "Epoch 42/100\n",
            "12/12 [==============================] - 0s 4ms/step - loss: 0.1484 - accuracy: 0.9606 - val_loss: 0.1079 - val_accuracy: 0.9787\n",
            "Epoch 43/100\n",
            "12/12 [==============================] - 0s 4ms/step - loss: 0.1466 - accuracy: 0.9606 - val_loss: 0.1063 - val_accuracy: 0.9787\n",
            "Epoch 44/100\n",
            "12/12 [==============================] - 0s 4ms/step - loss: 0.1449 - accuracy: 0.9633 - val_loss: 0.1048 - val_accuracy: 0.9787\n",
            "Epoch 45/100\n",
            "12/12 [==============================] - 0s 4ms/step - loss: 0.1432 - accuracy: 0.9633 - val_loss: 0.1035 - val_accuracy: 0.9840\n",
            "Epoch 46/100\n",
            "12/12 [==============================] - 0s 4ms/step - loss: 0.1416 - accuracy: 0.9633 - val_loss: 0.1022 - val_accuracy: 0.9840\n",
            "Epoch 47/100\n",
            "12/12 [==============================] - 0s 4ms/step - loss: 0.1400 - accuracy: 0.9659 - val_loss: 0.1008 - val_accuracy: 0.9840\n",
            "Epoch 48/100\n",
            "12/12 [==============================] - 0s 4ms/step - loss: 0.1385 - accuracy: 0.9659 - val_loss: 0.0995 - val_accuracy: 0.9840\n",
            "Epoch 49/100\n",
            "12/12 [==============================] - 0s 4ms/step - loss: 0.1371 - accuracy: 0.9685 - val_loss: 0.0984 - val_accuracy: 0.9840\n",
            "Epoch 50/100\n",
            "12/12 [==============================] - 0s 4ms/step - loss: 0.1357 - accuracy: 0.9685 - val_loss: 0.0972 - val_accuracy: 0.9840\n",
            "Epoch 51/100\n",
            "12/12 [==============================] - 0s 4ms/step - loss: 0.1343 - accuracy: 0.9685 - val_loss: 0.0962 - val_accuracy: 0.9840\n",
            "Epoch 52/100\n",
            "12/12 [==============================] - 0s 4ms/step - loss: 0.1330 - accuracy: 0.9685 - val_loss: 0.0951 - val_accuracy: 0.9840\n",
            "Epoch 53/100\n",
            "12/12 [==============================] - 0s 4ms/step - loss: 0.1316 - accuracy: 0.9685 - val_loss: 0.0941 - val_accuracy: 0.9840\n",
            "Epoch 54/100\n",
            "12/12 [==============================] - 0s 4ms/step - loss: 0.1304 - accuracy: 0.9685 - val_loss: 0.0930 - val_accuracy: 0.9840\n",
            "Epoch 55/100\n",
            "12/12 [==============================] - 0s 4ms/step - loss: 0.1293 - accuracy: 0.9685 - val_loss: 0.0920 - val_accuracy: 0.9840\n",
            "Epoch 56/100\n",
            "12/12 [==============================] - 0s 4ms/step - loss: 0.1280 - accuracy: 0.9685 - val_loss: 0.0910 - val_accuracy: 0.9840\n",
            "Epoch 57/100\n",
            "12/12 [==============================] - 0s 4ms/step - loss: 0.1268 - accuracy: 0.9685 - val_loss: 0.0902 - val_accuracy: 0.9840\n",
            "Epoch 58/100\n",
            "12/12 [==============================] - 0s 4ms/step - loss: 0.1258 - accuracy: 0.9685 - val_loss: 0.0894 - val_accuracy: 0.9840\n",
            "Epoch 59/100\n",
            "12/12 [==============================] - 0s 4ms/step - loss: 0.1247 - accuracy: 0.9685 - val_loss: 0.0884 - val_accuracy: 0.9840\n",
            "Epoch 60/100\n",
            "12/12 [==============================] - 0s 4ms/step - loss: 0.1236 - accuracy: 0.9711 - val_loss: 0.0876 - val_accuracy: 0.9840\n",
            "Epoch 61/100\n",
            "12/12 [==============================] - 0s 4ms/step - loss: 0.1226 - accuracy: 0.9711 - val_loss: 0.0869 - val_accuracy: 0.9840\n",
            "Epoch 62/100\n",
            "12/12 [==============================] - 0s 4ms/step - loss: 0.1216 - accuracy: 0.9711 - val_loss: 0.0861 - val_accuracy: 0.9840\n",
            "Epoch 63/100\n",
            "12/12 [==============================] - 0s 4ms/step - loss: 0.1206 - accuracy: 0.9711 - val_loss: 0.0853 - val_accuracy: 0.9840\n",
            "Epoch 64/100\n",
            "12/12 [==============================] - 0s 4ms/step - loss: 0.1197 - accuracy: 0.9711 - val_loss: 0.0846 - val_accuracy: 0.9840\n",
            "Epoch 65/100\n",
            "12/12 [==============================] - 0s 4ms/step - loss: 0.1188 - accuracy: 0.9711 - val_loss: 0.0838 - val_accuracy: 0.9840\n",
            "Epoch 66/100\n",
            "12/12 [==============================] - 0s 4ms/step - loss: 0.1179 - accuracy: 0.9738 - val_loss: 0.0832 - val_accuracy: 0.9840\n",
            "Epoch 67/100\n",
            "12/12 [==============================] - 0s 5ms/step - loss: 0.1170 - accuracy: 0.9738 - val_loss: 0.0825 - val_accuracy: 0.9840\n",
            "Epoch 68/100\n",
            "12/12 [==============================] - 0s 4ms/step - loss: 0.1161 - accuracy: 0.9738 - val_loss: 0.0818 - val_accuracy: 0.9840\n",
            "Epoch 69/100\n",
            "12/12 [==============================] - 0s 4ms/step - loss: 0.1153 - accuracy: 0.9738 - val_loss: 0.0812 - val_accuracy: 0.9840\n",
            "Epoch 70/100\n",
            "12/12 [==============================] - 0s 4ms/step - loss: 0.1145 - accuracy: 0.9738 - val_loss: 0.0806 - val_accuracy: 0.9840\n",
            "Epoch 71/100\n",
            "12/12 [==============================] - 0s 4ms/step - loss: 0.1137 - accuracy: 0.9790 - val_loss: 0.0801 - val_accuracy: 0.9840\n",
            "Epoch 72/100\n",
            "12/12 [==============================] - 0s 4ms/step - loss: 0.1129 - accuracy: 0.9790 - val_loss: 0.0794 - val_accuracy: 0.9840\n",
            "Epoch 73/100\n",
            "12/12 [==============================] - 0s 4ms/step - loss: 0.1121 - accuracy: 0.9790 - val_loss: 0.0789 - val_accuracy: 0.9840\n",
            "Epoch 74/100\n",
            "12/12 [==============================] - 0s 4ms/step - loss: 0.1114 - accuracy: 0.9790 - val_loss: 0.0784 - val_accuracy: 0.9840\n",
            "Epoch 75/100\n",
            "12/12 [==============================] - 0s 4ms/step - loss: 0.1106 - accuracy: 0.9790 - val_loss: 0.0779 - val_accuracy: 0.9840\n",
            "Epoch 76/100\n",
            "12/12 [==============================] - 0s 4ms/step - loss: 0.1099 - accuracy: 0.9790 - val_loss: 0.0772 - val_accuracy: 0.9840\n",
            "Epoch 77/100\n",
            "12/12 [==============================] - 0s 4ms/step - loss: 0.1092 - accuracy: 0.9790 - val_loss: 0.0767 - val_accuracy: 0.9840\n",
            "Epoch 78/100\n",
            "12/12 [==============================] - 0s 4ms/step - loss: 0.1085 - accuracy: 0.9790 - val_loss: 0.0763 - val_accuracy: 0.9894\n",
            "Epoch 79/100\n",
            "12/12 [==============================] - 0s 4ms/step - loss: 0.1079 - accuracy: 0.9816 - val_loss: 0.0758 - val_accuracy: 0.9894\n",
            "Epoch 80/100\n",
            "12/12 [==============================] - 0s 4ms/step - loss: 0.1073 - accuracy: 0.9816 - val_loss: 0.0754 - val_accuracy: 0.9894\n",
            "Epoch 81/100\n",
            "12/12 [==============================] - 0s 4ms/step - loss: 0.1067 - accuracy: 0.9816 - val_loss: 0.0750 - val_accuracy: 0.9894\n",
            "Epoch 82/100\n",
            "12/12 [==============================] - 0s 4ms/step - loss: 0.1060 - accuracy: 0.9843 - val_loss: 0.0744 - val_accuracy: 0.9894\n",
            "Epoch 83/100\n",
            "12/12 [==============================] - 0s 4ms/step - loss: 0.1054 - accuracy: 0.9843 - val_loss: 0.0741 - val_accuracy: 0.9894\n",
            "Epoch 84/100\n",
            "12/12 [==============================] - 0s 4ms/step - loss: 0.1048 - accuracy: 0.9843 - val_loss: 0.0737 - val_accuracy: 0.9894\n",
            "Epoch 85/100\n",
            "12/12 [==============================] - 0s 5ms/step - loss: 0.1042 - accuracy: 0.9843 - val_loss: 0.0732 - val_accuracy: 0.9894\n",
            "Epoch 86/100\n",
            "12/12 [==============================] - 0s 4ms/step - loss: 0.1036 - accuracy: 0.9843 - val_loss: 0.0728 - val_accuracy: 0.9894\n",
            "Epoch 87/100\n",
            "12/12 [==============================] - 0s 4ms/step - loss: 0.1031 - accuracy: 0.9843 - val_loss: 0.0725 - val_accuracy: 0.9894\n",
            "Epoch 88/100\n",
            "12/12 [==============================] - 0s 4ms/step - loss: 0.1025 - accuracy: 0.9843 - val_loss: 0.0721 - val_accuracy: 0.9894\n",
            "Epoch 89/100\n",
            "12/12 [==============================] - 0s 4ms/step - loss: 0.1020 - accuracy: 0.9843 - val_loss: 0.0716 - val_accuracy: 0.9894\n",
            "Epoch 90/100\n",
            "12/12 [==============================] - 0s 4ms/step - loss: 0.1015 - accuracy: 0.9843 - val_loss: 0.0712 - val_accuracy: 0.9894\n",
            "Epoch 91/100\n",
            "12/12 [==============================] - 0s 4ms/step - loss: 0.1009 - accuracy: 0.9843 - val_loss: 0.0710 - val_accuracy: 0.9894\n",
            "Epoch 92/100\n",
            "12/12 [==============================] - 0s 4ms/step - loss: 0.1004 - accuracy: 0.9843 - val_loss: 0.0707 - val_accuracy: 0.9894\n",
            "Epoch 93/100\n",
            "12/12 [==============================] - 0s 4ms/step - loss: 0.0999 - accuracy: 0.9869 - val_loss: 0.0704 - val_accuracy: 0.9894\n",
            "Epoch 94/100\n",
            "12/12 [==============================] - 0s 5ms/step - loss: 0.0994 - accuracy: 0.9869 - val_loss: 0.0699 - val_accuracy: 0.9894\n",
            "Epoch 95/100\n",
            "12/12 [==============================] - 0s 4ms/step - loss: 0.0990 - accuracy: 0.9869 - val_loss: 0.0697 - val_accuracy: 0.9894\n",
            "Epoch 96/100\n",
            "12/12 [==============================] - 0s 4ms/step - loss: 0.0985 - accuracy: 0.9869 - val_loss: 0.0694 - val_accuracy: 0.9894\n",
            "Epoch 97/100\n",
            "12/12 [==============================] - 0s 4ms/step - loss: 0.0980 - accuracy: 0.9869 - val_loss: 0.0691 - val_accuracy: 0.9894\n",
            "Epoch 98/100\n",
            "12/12 [==============================] - 0s 4ms/step - loss: 0.0975 - accuracy: 0.9869 - val_loss: 0.0688 - val_accuracy: 0.9894\n",
            "Epoch 99/100\n",
            "12/12 [==============================] - 0s 4ms/step - loss: 0.0971 - accuracy: 0.9869 - val_loss: 0.0685 - val_accuracy: 0.9894\n",
            "Epoch 100/100\n",
            "12/12 [==============================] - 0s 4ms/step - loss: 0.0966 - accuracy: 0.9869 - val_loss: 0.0682 - val_accuracy: 0.9894\n",
            "12/12 [==============================] - 0s 2ms/step - loss: 0.0964 - accuracy: 0.9869\n",
            "Train score: [0.09639044106006622, 0.9868766665458679]\n",
            "6/6 [==============================] - 0s 2ms/step - loss: 0.0682 - accuracy: 0.9894\n",
            "Test score: [0.06818309426307678, 0.9893617033958435]\n"
          ],
          "name": "stdout"
        }
      ]
    },
    {
      "cell_type": "code",
      "metadata": {
        "id": "W0fK5PQc8aJ_",
        "outputId": "a3455f30-8dd5-4710-cc14-48434a0b0aaf",
        "colab": {
          "base_uri": "https://localhost:8080/",
          "height": 282
        }
      },
      "source": [
        "# Plot what's returned by model.fit()\n",
        "import matplotlib.pyplot as plt\n",
        "plt.plot(r.history['loss'], label='loss')\n",
        "plt.plot(r.history['val_loss'], label='val_loss')\n",
        "plt.legend()"
      ],
      "execution_count": 14,
      "outputs": [
        {
          "output_type": "execute_result",
          "data": {
            "text/plain": [
              "<matplotlib.legend.Legend at 0x7fb07e0a3f98>"
            ]
          },
          "metadata": {
            "tags": []
          },
          "execution_count": 14
        },
        {
          "output_type": "display_data",
          "data": {
            "image/png": "[encoded data removed]",
            "text/plain": [
              "<Figure size 432x288 with 1 Axes>"
            ]
          },
          "metadata": {
            "tags": [],
            "needs_background": "light"
          }
        }
      ]
    },
    {
      "cell_type": "code",
      "metadata": {
        "id": "VBAA2UY28vJN",
        "outputId": "c4d12bd3-0177-4240-af8f-a312c7d73161",
        "colab": {
          "base_uri": "https://localhost:8080/",
          "height": 284
        }
      },
      "source": [
        "# Plot the accuracy too\n",
        "plt.plot(r.history['accuracy'], label='acc')\n",
        "plt.plot(r.history['val_accuracy'], label='val_acc')\n",
        "plt.legend()"
      ],
      "execution_count": 15,
      "outputs": [
        {
          "output_type": "execute_result",
          "data": {
            "text/plain": [
              "<matplotlib.legend.Legend at 0x7fb07e043eb8>"
            ]
          },
          "metadata": {
            "tags": []
          },
          "execution_count": 15
        },
        {
          "output_type": "display_data",
          "data": {
            "image/png": "[encoded data removed]",
            "text/plain": [
              "<Figure size 432x288 with 1 Axes>"
            ]
          },
          "metadata": {
            "tags": [],
            "needs_background": "light"
          }
        }
      ]
    },
    {
      "cell_type": "markdown",
      "metadata": {
        "id": "GrZnHBI8NH-u"
      },
      "source": [
        "# Part 2: Making Predictions\n",
        "\n",
        "This goes with the lecture \"Making Predictions\""
      ]
    },
    {
      "cell_type": "code",
      "metadata": {
        "id": "Ss1LJwIVKREf",
        "outputId": "aa20891f-7218-492c-eb2b-999f9aa1c16d",
        "colab": {
          "base_uri": "https://localhost:8080/",
          "height": 1000
        }
      },
      "source": [
        "# Make predictions\n",
        "P = model.predict(X_test)\n",
        "print(P) # they are outputs of the sigmoid, interpreted as probabilities p(y = 1 | x)"
      ],
      "execution_count": 16,
      "outputs": [
        {
          "output_type": "stream",
          "text": [
            "[[2.1021210e-02]\n",
            " [2.0729139e-07]\n",
            " [2.2806821e-03]\n",
            " [9.9261028e-01]\n",
            " [3.0642800e-06]\n",
            " [8.8806683e-01]\n",
            " [1.2656253e-04]\n",
            " [4.7297902e-11]\n",
            " [5.5490177e-02]\n",
            " [9.9726307e-01]\n",
            " [9.5349371e-01]\n",
            " [9.8387885e-01]\n",
            " [9.4542706e-01]\n",
            " [5.8247353e-04]\n",
            " [7.4922830e-01]\n",
            " [1.2460927e-02]\n",
            " [9.9990392e-01]\n",
            " [9.9202991e-01]\n",
            " [9.5699263e-01]\n",
            " [3.3521660e-02]\n",
            " [9.9870896e-01]\n",
            " [9.6243471e-01]\n",
            " [8.4085035e-01]\n",
            " [9.9662220e-01]\n",
            " [7.6698292e-05]\n",
            " [9.8064601e-01]\n",
            " [3.1272130e-08]\n",
            " [9.9626487e-01]\n",
            " [8.3684677e-09]\n",
            " [9.1745061e-01]\n",
            " [1.1133600e-03]\n",
            " [9.1087872e-01]\n",
            " [9.4356912e-01]\n",
            " [9.3720698e-01]\n",
            " [9.6539438e-01]\n",
            " [9.7941381e-01]\n",
            " [7.5389817e-06]\n",
            " [9.8992085e-01]\n",
            " [9.8996162e-01]\n",
            " [9.8886883e-01]\n",
            " [9.9604636e-01]\n",
            " [3.0536623e-07]\n",
            " [9.7004211e-01]\n",
            " [9.8497367e-01]\n",
            " [7.9617398e-03]\n",
            " [9.4617260e-01]\n",
            " [1.3199382e-03]\n",
            " [9.8677105e-01]\n",
            " [9.6428972e-01]\n",
            " [9.5211440e-01]\n",
            " [9.7179347e-01]\n",
            " [1.4430468e-02]\n",
            " [9.9717122e-01]\n",
            " [9.4046170e-01]\n",
            " [3.6129528e-01]\n",
            " [3.4751000e-03]\n",
            " [9.9024349e-01]\n",
            " [3.6377455e-03]\n",
            " [9.8861235e-01]\n",
            " [5.4416233e-03]\n",
            " [9.6799493e-01]\n",
            " [9.9927288e-01]\n",
            " [4.2201183e-03]\n",
            " [4.3345547e-01]\n",
            " [4.2395342e-02]\n",
            " [7.0661300e-01]\n",
            " [4.1894945e-09]\n",
            " [2.9614372e-02]\n",
            " [2.4395781e-02]\n",
            " [7.7679896e-01]\n",
            " [7.5875002e-01]\n",
            " [9.5314771e-01]\n",
            " [7.4750751e-01]\n",
            " [1.4528870e-03]\n",
            " [9.0703160e-01]\n",
            " [3.4879875e-01]\n",
            " [1.6651216e-05]\n",
            " [1.3389337e-01]\n",
            " [9.9025321e-01]\n",
            " [4.5539111e-02]\n",
            " [1.3704920e-06]\n",
            " [9.6863550e-01]\n",
            " [9.9226063e-01]\n",
            " [9.9878782e-01]\n",
            " [2.0449165e-01]\n",
            " [9.9030018e-01]\n",
            " [9.8850071e-01]\n",
            " [6.7062342e-01]\n",
            " [9.0885776e-01]\n",
            " [8.9558202e-01]\n",
            " [9.9923670e-01]\n",
            " [5.3025031e-01]\n",
            " [6.6956098e-04]\n",
            " [9.9383980e-01]\n",
            " [9.9358904e-01]\n",
            " [1.6647384e-08]\n",
            " [9.9542087e-01]\n",
            " [9.9063736e-01]\n",
            " [9.9538344e-01]\n",
            " [9.7047150e-01]\n",
            " [9.9333125e-01]\n",
            " [2.1285811e-04]\n",
            " [9.2881548e-01]\n",
            " [1.6833353e-04]\n",
            " [9.2835981e-01]\n",
            " [9.9061042e-01]\n",
            " [9.5197147e-01]\n",
            " [9.9538416e-01]\n",
            " [2.4860650e-03]\n",
            " [9.7772741e-01]\n",
            " [8.8921046e-01]\n",
            " [9.9077713e-01]\n",
            " [9.8280293e-01]\n",
            " [9.9822694e-01]\n",
            " [9.9551058e-01]\n",
            " [5.0336841e-02]\n",
            " [8.6826738e-05]\n",
            " [4.1130483e-01]\n",
            " [9.9866211e-01]\n",
            " [8.4016657e-01]\n",
            " [9.8003459e-01]\n",
            " [6.5791517e-02]\n",
            " [9.0292925e-01]\n",
            " [1.2926439e-14]\n",
            " [2.0708090e-03]\n",
            " [9.9864334e-01]\n",
            " [8.0281901e-01]\n",
            " [1.4026929e-04]\n",
            " [2.8222647e-02]\n",
            " [9.7707141e-07]\n",
            " [9.0132304e-02]\n",
            " [9.9650097e-01]\n",
            " [3.5784310e-01]\n",
            " [1.0853641e-03]\n",
            " [9.9923944e-01]\n",
            " [9.9833649e-01]\n",
            " [2.4857970e-01]\n",
            " [5.1975232e-02]\n",
            " [9.8176950e-01]\n",
            " [9.7502023e-01]\n",
            " [8.5444207e-04]\n",
            " [7.8128502e-03]\n",
            " [9.4041467e-01]\n",
            " [1.3887312e-01]\n",
            " [9.9925798e-01]\n",
            " [9.9253309e-01]\n",
            " [9.7396797e-01]\n",
            " [8.3472741e-01]\n",
            " [9.8957485e-01]\n",
            " [2.8596612e-02]\n",
            " [9.8384953e-01]\n",
            " [9.9883956e-01]\n",
            " [6.7376401e-03]\n",
            " [1.7240208e-02]\n",
            " [9.4941390e-01]\n",
            " [9.9599260e-01]\n",
            " [9.9923718e-01]\n",
            " [8.4516138e-01]\n",
            " [1.9105964e-05]\n",
            " [2.7409222e-02]\n",
            " [9.8230767e-01]\n",
            " [9.8024315e-01]\n",
            " [7.6217875e-02]\n",
            " [6.1711053e-06]\n",
            " [9.4245309e-01]\n",
            " [9.9264866e-01]\n",
            " [2.4274023e-05]\n",
            " [9.9730337e-01]\n",
            " [9.9067312e-01]\n",
            " [9.9838245e-01]\n",
            " [8.3804888e-01]\n",
            " [7.0387548e-01]\n",
            " [8.3361459e-01]\n",
            " [2.9383959e-02]\n",
            " [1.2491470e-02]\n",
            " [1.3658377e-02]\n",
            " [8.8840711e-01]\n",
            " [8.2112628e-01]\n",
            " [9.6387321e-01]\n",
            " [9.8289573e-01]\n",
            " [8.0911137e-05]\n",
            " [8.5072212e-02]\n",
            " [1.0801788e-01]\n",
            " [5.3232175e-01]\n",
            " [4.7437538e-04]\n",
            " [2.7371702e-06]\n",
            " [5.1002884e-05]\n",
            " [8.7481785e-01]]\n"
          ],
          "name": "stdout"
        }
      ]
    },
    {
      "cell_type": "code",
      "metadata": {
        "id": "Tv0cN7J6KoVu",
        "outputId": "5dd05cee-9f0e-475a-c3b5-91e2ce86cc29",
        "colab": {
          "base_uri": "https://localhost:8080/",
          "height": 153
        }
      },
      "source": [
        "# Round to get the actual predictions\n",
        "# Note: has to be flattened since the targets are size (N,) while the predictions are size (N,1)\n",
        "import numpy as np\n",
        "P = np.round(P).flatten()\n",
        "print(P)"
      ],
      "execution_count": 17,
      "outputs": [
        {
          "output_type": "stream",
          "text": [
            "[0. 0. 0. 1. 0. 1. 0. 0. 0. 1. 1. 1. 1. 0. 1. 0. 1. 1. 1. 0. 1. 1. 1. 1.\n",
            " 0. 1. 0. 1. 0. 1. 0. 1. 1. 1. 1. 1. 0. 1. 1. 1. 1. 0. 1. 1. 0. 1. 0. 1.\n",
            " 1. 1. 1. 0. 1. 1. 0. 0. 1. 0. 1. 0. 1. 1. 0. 0. 0. 1. 0. 0. 0. 1. 1. 1.\n",
            " 1. 0. 1. 0. 0. 0. 1. 0. 0. 1. 1. 1. 0. 1. 1. 1. 1. 1. 1. 1. 0. 1. 1. 0.\n",
            " 1. 1. 1. 1. 1. 0. 1. 0. 1. 1. 1. 1. 0. 1. 1. 1. 1. 1. 1. 0. 0. 0. 1. 1.\n",
            " 1. 0. 1. 0. 0. 1. 1. 0. 0. 0. 0. 1. 0. 0. 1. 1. 0. 0. 1. 1. 0. 0. 1. 0.\n",
            " 1. 1. 1. 1. 1. 0. 1. 1. 0. 0. 1. 1. 1. 1. 0. 0. 1. 1. 0. 0. 1. 1. 0. 1.\n",
            " 1. 1. 1. 1. 1. 0. 0. 0. 1. 1. 1. 1. 0. 0. 0. 1. 0. 0. 0. 1.]\n"
          ],
          "name": "stdout"
        }
      ]
    },
    {
      "cell_type": "code",
      "metadata": {
        "id": "yJU09XkmK4nQ",
        "outputId": "ea806191-bdd5-4cc9-a231-11fed5c2b5fc",
        "colab": {
          "base_uri": "https://localhost:8080/",
          "height": 68
        }
      },
      "source": [
        "# Calculate the accuracy, compare it to evaluate() output\n",
        "print(\"Manually calculated accuracy:\", np.mean(P == y_test))\n",
        "print(\"Evaluate output:\", model.evaluate(X_test, y_test))"
      ],
      "execution_count": 18,
      "outputs": [
        {
          "output_type": "stream",
          "text": [
            "Manually calculated accuracy: 0.9893617021276596\n",
            "6/6 [==============================] - 0s 2ms/step - loss: 0.0682 - accuracy: 0.9894\n",
            "Evaluate output: [0.06818309426307678, 0.9893617033958435]\n"
          ],
          "name": "stdout"
        }
      ]
    },
    {
      "cell_type": "markdown",
      "metadata": {
        "id": "iogYs0uGNS4l"
      },
      "source": [
        "# Part 3: Saving and Loading a Model\n",
        "\n",
        "This goes with the lecture \"Saving and Loading a Model\""
      ]
    },
    {
      "cell_type": "code",
      "metadata": {
        "id": "L1uHxJ2SNXan"
      },
      "source": [
        "# Let's now save our model to a file\n",
        "model.save('linearclassifier.h5')"
      ],
      "execution_count": 19,
      "outputs": []
    },
    {
      "cell_type": "code",
      "metadata": {
        "id": "F6PHmjb0OFBf",
        "outputId": "1e2d61d8-b9db-4442-ff9b-8bf9b026da09",
        "colab": {
          "base_uri": "https://localhost:8080/",
          "height": 68
        }
      },
      "source": [
        "# Check that the model file exists\n",
        "!ls -lh "
      ],
      "execution_count": 20,
      "outputs": [
        {
          "output_type": "stream",
          "text": [
            "total 24K\n",
            "-rw-r--r-- 1 root root  19K Oct 26 10:39 linearclassifier.h5\n",
            "drwxr-xr-x 1 root root 4.0K Oct 14 16:31 sample_data\n"
          ],
          "name": "stdout"
        }
      ]
    },
    {
      "cell_type": "code",
      "metadata": {
        "id": "FgFBrBveNoOR",
        "outputId": "f48935fc-5466-464c-983f-d30795ac7fff",
        "colab": {
          "base_uri": "https://localhost:8080/",
          "height": 68
        }
      },
      "source": [
        "# Let's load the model and confirm that it still works\n",
        "# Note: there is a bug in Keras where load/save only works if you DON'T use the Input() layer explicitly\n",
        "# So, make sure you define the model with ONLY Dense(1, input_shape=(D,))\n",
        "# At least, until the bug is fixed\n",
        "# https://github.com/keras-team/keras/issues/10417\n",
        "model = tf.keras.models.load_model('linearclassifier.h5')\n",
        "print(model.layers)\n",
        "model.evaluate(X_test, y_test)"
      ],
      "execution_count": 21,
      "outputs": [
        {
          "output_type": "stream",
          "text": [
            "[<tensorflow.python.keras.layers.core.Dense object at 0x7fb06c2ed7f0>]\n",
            "6/6 [==============================] - 0s 2ms/step - loss: 0.0682 - accuracy: 0.9894\n"
          ],
          "name": "stdout"
        },
        {
          "output_type": "execute_result",
          "data": {
            "text/plain": [
              "[0.06818309426307678, 0.9893617033958435]"
            ]
          },
          "metadata": {
            "tags": []
          },
          "execution_count": 21
        }
      ]
    },
    {
      "cell_type": "code",
      "metadata": {
        "id": "_8rGQI-Rpo2T",
        "outputId": "6502190b-0137-40bd-9e17-6c6b1e1a8816",
        "colab": {
          "base_uri": "https://localhost:8080/",
          "height": 17
        }
      },
      "source": [
        "\n",
        "# Download the file - requires Chrome (at this point)\n",
        "# from google.colab import files\n",
        "# files.download('linearclassifier.h5')"
      ],
      "execution_count": 22,
      "outputs": [
        {
          "output_type": "display_data",
          "data": {
            "application/javascript": [
              "\n",
              "    async function download(id, filename, size) {\n",
              "      if (!google.colab.kernel.accessAllowed) {\n",
              "        return;\n",
              "      }\n",
              "      const div = document.createElement('div');\n",
              "      const label = document.createElement('label');\n",
              "      label.textContent = `Downloading \"${filename}\": `;\n",
              "      div.appendChild(label);\n",
              "      const progress = document.createElement('progress');\n",
              "      progress.max = size;\n",
              "      div.appendChild(progress);\n",
              "      document.body.appendChild(div);\n",
              "\n",
              "      const buffers = [];\n",
              "      let downloaded = 0;\n",
              "\n",
              "      const channel = await google.colab.kernel.comms.open(id);\n",
              "      // Send a message to notify the kernel that we're ready.\n",
              "      channel.send({})\n",
              "\n",
              "      for await (const message of channel.messages) {\n",
              "        // Send a message to notify the kernel that we're ready.\n",
              "        channel.send({})\n",
              "        if (message.buffers) {\n",
              "          for (const buffer of message.buffers) {\n",
              "            buffers.push(buffer);\n",
              "            downloaded += buffer.byteLength;\n",
              "            progress.value = downloaded;\n",
              "          }\n",
              "        }\n",
              "      }\n",
              "      const blob = new Blob(buffers, {type: 'application/binary'});\n",
              "      const a = document.createElement('a');\n",
              "      a.href = window.URL.createObjectURL(blob);\n",
              "      a.download = filename;\n",
              "      div.appendChild(a);\n",
              "      a.click();\n",
              "      div.remove();\n",
              "    }\n",
              "  "
            ],
            "text/plain": [
              "<IPython.core.display.Javascript object>"
            ]
          },
          "metadata": {
            "tags": []
          }
        },
        {
          "output_type": "display_data",
          "data": {
            "application/javascript": [
              "download(\"download_50daa69f-aac5-4f2f-ba53-8fb617f63891\", \"linearclassifier.h5\", 18480)"
            ],
            "text/plain": [
              "<IPython.core.display.Javascript object>"
            ]
          },
          "metadata": {
            "tags": []
          }
        }
      ]
    }
  ]
}